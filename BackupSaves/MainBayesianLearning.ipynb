{
 "cells": [
  {
   "cell_type": "code",
   "execution_count": null,
   "metadata": {
    "collapsed": true
   },
   "outputs": [],
   "source": [
    "#TO DO NOTES: \n",
    "    #1. make pretty plots\n",
    "    #2. squares? \n",
    "    #3. double check to make sure results are correct\n",
    "    #4. Make sure concepts are in right order\n",
    "    \n",
    "\n",
    "    #Do I need to make a function for 'power of 10... power of 2... multiple of 3 ... squares... odd... even...\" ? "
   ]
  },
  {
   "cell_type": "code",
   "execution_count": 1,
   "metadata": {
    "collapsed": false
   },
   "outputs": [
    {
     "name": "stdout",
     "output_type": "stream",
     "text": [
      "Populating the interactive namespace from numpy and matplotlib\n"
     ]
    },
    {
     "data": {
      "text/plain": [
       "'\\nplt.figure( 42 )\\nplt.clf()\\nplt.subplot\\nplt.barh\\nplt.title\\nplt.xlabel\\n'"
      ]
     },
     "execution_count": 1,
     "metadata": {},
     "output_type": "execute_result"
    }
   ],
   "source": [
    "import matplotlib.pyplot as plt\n",
    "import seaborn\n",
    "%matplotlib inline  \n",
    "%pylab inline\n",
    "#Figure Size\n",
    "pylab.rcParams['figure.figsize'] = (16.0, 8.0)\n",
    "\n",
    "\"\"\"\n",
    "plt.figure( 42 )\n",
    "plt.clf()\n",
    "plt.subplot\n",
    "plt.barh\n",
    "plt.title\n",
    "plt.xlabel\n",
    "\"\"\"\n",
    " "
   ]
  },
  {
   "cell_type": "code",
   "execution_count": 44,
   "metadata": {
    "collapsed": false
   },
   "outputs": [
    {
     "name": "stdout",
     "output_type": "stream",
     "text": [
      "Please enter a set of numbers: [16]\n"
     ]
    },
    {
     "data": {
      "text/plain": [
       "[16]"
      ]
     },
     "execution_count": 44,
     "metadata": {},
     "output_type": "execute_result"
    }
   ],
   "source": [
    "data = input('Please enter a set of numbers: ')\n",
    "data"
   ]
  },
  {
   "cell_type": "code",
   "execution_count": 53,
   "metadata": {
    "collapsed": false
   },
   "outputs": [],
   "source": [
    "all = range(0,101,1)\n",
    "even = range (0,101,2)\n",
    "odd = range (1,101,2)\n",
    "mult3 = range (3,101,3)\n",
    "mult4 = range (4,101,4)\n",
    "mult5 = range (5,101,5)\n",
    "mult6 = range (6,101,6)\n",
    "mult7 = range (7,101,7)\n",
    "mult8 = range (8,101,8)\n",
    "mult9 = range (9,101,9)\n",
    "mult10 = range (10,101,10)\n",
    "squares = [0,1,4, 9, 16, 25, 36, 49, 64, 81, 100]\n",
    "\n",
    "#List Filering :  #http://www.diveintopython.net/power_of_introspection/filtering_lists.html\n",
    "    # [elem for elem in li if elem != \"b\"]\n",
    "# Grab first digit # http://stackoverflow.com/questions/974952/split-an-integer-into-digits-to-compute-an-isbn-checksum\n",
    "#List Practice\n",
    "all[50:] #starting at index50 to end\n",
    "all[-5:] #starting at length-5 to end\n",
    "all[:5] #everything up until 5\n",
    "all[:-5] #everything up until the last 5 \n",
    "\n",
    "endsIn0s = [elem for elem in all if int(str(elem)[-1:]) == 0]\n",
    "endsIn1s = [elem for elem in all if int(str(elem)[-1:]) == 1]\n",
    "endsIn2s = [elem for elem in all if int(str(elem)[-1:]) == 2]\n",
    "endsIn3s = [elem for elem in all if int(str(elem)[-1:]) == 3]\n",
    "endsIn4s = [elem for elem in all if int(str(elem)[-1:]) == 4]\n",
    "endsIn5s = [elem for elem in all if int(str(elem)[-1:]) == 5]\n",
    "endsIn6s = [elem for elem in all if int(str(elem)[-1:]) == 6]\n",
    "endsIn7s = [elem for elem in all if int(str(elem)[-1:]) == 7]\n",
    "endsIn8s = [elem for elem in all if int(str(elem)[-1:]) == 8]\n",
    "endsIn9s = [elem for elem in all if int(str(elem)[-1:]) == 9]\n"
   ]
  },
  {
   "cell_type": "code",
   "execution_count": 54,
   "metadata": {
    "collapsed": false
   },
   "outputs": [],
   "source": [
    "# Power of base : http://stackoverflow.com/questions/15352593/how-to-check-if-a-number-is-a-power-of-base-b\n",
    "def isPower (num, base):\n",
    "    if num == 0: return False\n",
    "    if base == 1 and num != 1: return False\n",
    "    if base == 1 and num == 1: return True\n",
    "    if base == 0 and num != 1: return False\n",
    "    power = int (math.log (num, base) + 0.5)\n",
    "    return base ** power == num\n",
    "\n",
    "powerOf2 = [elem for elem in all if isPower(elem,2)]\n",
    "powerOf3 = [elem for elem in all if isPower(elem,3)]\n",
    "powerOf4 = [elem for elem in all if isPower(elem,4)]\n",
    "powerOf5 = [elem for elem in all if isPower(elem,5)]\n",
    "powerOf6 = [elem for elem in all if isPower(elem,6)]\n",
    "powerOf7 = [elem for elem in all if isPower(elem,7)]\n",
    "powerOf8 = [elem for elem in all if isPower(elem,8)]\n",
    "powerOf9 = [elem for elem in all if isPower(elem,9)]\n",
    "powerOf10 = [elem for elem in all if isPower(elem,10)]\n",
    "powerOf2Plus37 = [elem for elem in powerOf2]\n",
    "powerOf2Plus37.append(37)\n",
    "powerOf2Minus32 = [elem for elem in powerOf2]\n",
    "powerOf2Minus32.remove(32)\n"
   ]
  },
  {
   "cell_type": "code",
   "execution_count": 55,
   "metadata": {
    "collapsed": false
   },
   "outputs": [],
   "source": [
    "# Creating a list of Lists : https://mail.python.org/pipermail/tutor/2000-January/000943.html\n",
    "concepts = []\n",
    "concepts.append(even)\n",
    "concepts.append(odd)\n",
    "concepts.append(squares)\n",
    "concepts.append(mult3)\n",
    "concepts.append(mult4)\n",
    "concepts.append(mult5)\n",
    "concepts.append(mult6)\n",
    "concepts.append(mult7)\n",
    "concepts.append(mult8)\n",
    "concepts.append(mult9)\n",
    "concepts.append(mult10)\n",
    "concepts.append(endsIn0s)\n",
    "concepts.append(endsIn1s)\n",
    "concepts.append(endsIn2s)\n",
    "concepts.append(endsIn3s)\n",
    "concepts.append(endsIn4s)\n",
    "concepts.append(endsIn5s)\n",
    "concepts.append(endsIn6s)\n",
    "concepts.append(endsIn7s)\n",
    "concepts.append(endsIn8s)\n",
    "concepts.append(endsIn9s)\n",
    "concepts.append(powerOf2)\n",
    "concepts.append(powerOf3)\n",
    "concepts.append(powerOf4)\n",
    "concepts.append(powerOf5)\n",
    "concepts.append(powerOf6)\n",
    "concepts.append(powerOf7)\n",
    "concepts.append(powerOf8)\n",
    "concepts.append(powerOf9)\n",
    "concepts.append(powerOf10)\n",
    "concepts.append(all)\n",
    "concepts.append(powerOf2Plus37)\n",
    "concepts.append(powerOf2Minus32)\n",
    "\n",
    "conceptNames = ('even', 'odd', 'squares', 'mult of 3', 'mult of 4'\n",
    "               , 'mult of 5', 'mult of 6', 'mult of 7', 'mult of 8'\n",
    "               , 'mult of 9', 'mult of 10','ends in 0', 'ends in 1', 'ends in 2'\n",
    "               , 'ends in 3', 'ends in 4', 'ends in 5', 'ends in 6'\n",
    "               , 'ends in 7', 'ends in 8', 'ends in 9', 'powers of 2'\n",
    "               , 'powers of 3', 'powers of 4', 'powers of 5', 'powers of 6'\n",
    "               , 'powers of 7', 'powers of 8', 'powers of 9', 'powers of10'\n",
    "               , 'all', 'powers of 2 + {37}', 'powers of 2 - {32}')\n",
    "\n",
    "prior = numpy.ones(( len(concepts), 1 ))\n",
    "prior[0] = 5\n",
    "prior[1] = 5\n",
    "prior[2] = 5\n",
    "prior[21] = 5\n",
    "prior = prior / numpy.sum(prior)\n"
   ]
  },
  {
   "cell_type": "code",
   "execution_count": 56,
   "metadata": {
    "collapsed": false
   },
   "outputs": [
    {
     "data": {
      "text/plain": [
       "array([[ 0.01960784],\n",
       "       [ 0.        ],\n",
       "       [ 0.09090909],\n",
       "       [ 0.        ],\n",
       "       [ 0.04      ],\n",
       "       [ 0.        ],\n",
       "       [ 0.        ],\n",
       "       [ 0.        ],\n",
       "       [ 0.08333333],\n",
       "       [ 0.        ],\n",
       "       [ 0.        ],\n",
       "       [ 0.        ],\n",
       "       [ 0.        ],\n",
       "       [ 0.        ],\n",
       "       [ 0.        ],\n",
       "       [ 0.        ],\n",
       "       [ 0.        ],\n",
       "       [ 0.1       ],\n",
       "       [ 0.        ],\n",
       "       [ 0.        ],\n",
       "       [ 0.        ],\n",
       "       [ 0.14285714],\n",
       "       [ 0.        ],\n",
       "       [ 0.25      ],\n",
       "       [ 0.        ],\n",
       "       [ 0.        ],\n",
       "       [ 0.        ],\n",
       "       [ 0.        ],\n",
       "       [ 0.        ],\n",
       "       [ 0.        ],\n",
       "       [ 0.00990099],\n",
       "       [ 0.125     ],\n",
       "       [ 0.16666667]])"
      ]
     },
     "execution_count": 56,
     "metadata": {},
     "output_type": "execute_result"
    }
   ],
   "source": [
    "#np.arange(2, 10, dtype=np.float)\n",
    "likelihood = numpy.ones(( len(concepts), 1 ), dtype=np.float)\n",
    "for conceptIndex in range(0,len(concepts),1):\n",
    "    for num in data:\n",
    "        if num not in concepts[conceptIndex]:\n",
    "            likelihood[conceptIndex] = 0\n",
    "    if likelihood[conceptIndex] != 0:\n",
    "         likelihood[conceptIndex] = float(1.0/len(concepts[conceptIndex])) ** len(data)\n",
    "likelihood \n",
    "    "
   ]
  },
  {
   "cell_type": "code",
   "execution_count": 57,
   "metadata": {
    "collapsed": false
   },
   "outputs": [
    {
     "data": {
      "text/plain": [
       "[0.048016745119022541,\n",
       " 0.0,\n",
       " 0.22262309100637726,\n",
       " 0.0,\n",
       " 0.019590832008561196,\n",
       " 0.0,\n",
       " 0.0,\n",
       " 0.0,\n",
       " 0.040814233351169155,\n",
       " 0.0,\n",
       " 0.0,\n",
       " 0.0,\n",
       " 0.0,\n",
       " 0.0,\n",
       " 0.0,\n",
       " 0.0,\n",
       " 0.0,\n",
       " 0.048977080021402983,\n",
       " 0.0,\n",
       " 0.0,\n",
       " 0.0,\n",
       " 0.3498362858671642,\n",
       " 0.0,\n",
       " 0.12244270005350746,\n",
       " 0.0,\n",
       " 0.0,\n",
       " 0.0,\n",
       " 0.0,\n",
       " 0.0,\n",
       " 0.0,\n",
       " 0.0048492158437032666,\n",
       " 0.061221350026753732,\n",
       " 0.081628466702338309]"
      ]
     },
     "execution_count": 57,
     "metadata": {},
     "output_type": "execute_result"
    }
   ],
   "source": [
    "# TO NORMALIZE IN ONE LINE: \n",
    "    #http://stackoverflow.com/questions/26785354/normalizing-a-list-of-numbers-in-python\n",
    "posterior = []\n",
    "for i in range(0, len(prior), 1):\n",
    "    posterior.append(prior[i]*likelihood[i])\n",
    "posterior = [float(i)/sum(posterior) for i in posterior]\n",
    "posterior\n"
   ]
  },
  {
   "cell_type": "code",
   "execution_count": 58,
   "metadata": {
    "collapsed": false,
    "scrolled": true
   },
   "outputs": [
    {
     "data": {
      "text/plain": [
       "[0.27548905196910306,\n",
       " 0.84260110949984424,\n",
       " 0.54555206355898211,\n",
       " 0.0048492158437032666,\n",
       " 0.91020868662742793,\n",
       " 0.0048492158437032666,\n",
       " 0.10184304098412879,\n",
       " 0.0048492158437032666,\n",
       " 0.60595712891871245,\n",
       " 0.22747230685008052,\n",
       " 0.052865960962725805,\n",
       " 0.0048492158437032666,\n",
       " 0.072456792971287001,\n",
       " 0.0048492158437032666,\n",
       " 0.052865960962725805,\n",
       " 0.0048492158437032666,\n",
       " 1.0,\n",
       " 0.0048492158437032666,\n",
       " 0.052865960962725805,\n",
       " 0.0048492158437032666,\n",
       " 0.072456792971287001,\n",
       " 0.0048492158437032666,\n",
       " 0.052865960962725805,\n",
       " 0.0048492158437032666,\n",
       " 0.11327102632245616,\n",
       " 0.22747230685008052,\n",
       " 0.10184304098412879,\n",
       " 0.0048492158437032666,\n",
       " 0.072456792971287001,\n",
       " 0.0048492158437032666,\n",
       " 0.052865960962725805,\n",
       " 0.0048492158437032666,\n",
       " 0.52432866221637409,\n",
       " 0.0048492158437032666,\n",
       " 0.052865960962725805,\n",
       " 0.0048492158437032666,\n",
       " 0.34405696399906727,\n",
       " 0.066070565870456996,\n",
       " 0.052865960962725805,\n",
       " 0.0048492158437032666,\n",
       " 0.11327102632245616,\n",
       " 0.0048492158437032666,\n",
       " 0.052865960962725805,\n",
       " 0.0048492158437032666,\n",
       " 0.072456792971287001,\n",
       " 0.0048492158437032666,\n",
       " 0.10184304098412879,\n",
       " 0.0048492158437032666,\n",
       " 0.11327102632245616,\n",
       " 0.22747230685008052,\n",
       " 0.052865960962725805,\n",
       " 0.0048492158437032666,\n",
       " 0.072456792971287001,\n",
       " 0.0048492158437032666,\n",
       " 0.052865960962725805,\n",
       " 0.0048492158437032666,\n",
       " 0.16224810634385914,\n",
       " 0.0048492158437032666,\n",
       " 0.052865960962725805,\n",
       " 0.0048492158437032666,\n",
       " 0.072456792971287001,\n",
       " 0.0048492158437032666,\n",
       " 0.052865960962725805,\n",
       " 0.0048492158437032666,\n",
       " 0.95102291997859711,\n",
       " 0.0048492158437032666,\n",
       " 0.10184304098412879,\n",
       " 0.0048492158437032666,\n",
       " 0.072456792971287001,\n",
       " 0.0048492158437032666,\n",
       " 0.052865960962725805,\n",
       " 0.0048492158437032666,\n",
       " 0.11327102632245616,\n",
       " 0.0048492158437032666,\n",
       " 0.052865960962725805,\n",
       " 0.0048492158437032666,\n",
       " 0.12143387299268998,\n",
       " 0.0048492158437032666,\n",
       " 0.052865960962725805,\n",
       " 0.0048492158437032666,\n",
       " 0.11327102632245616,\n",
       " 0.22747230685008052,\n",
       " 0.052865960962725805,\n",
       " 0.0048492158437032666,\n",
       " 0.072456792971287001,\n",
       " 0.0048492158437032666,\n",
       " 0.10184304098412879,\n",
       " 0.0048492158437032666,\n",
       " 0.11327102632245616,\n",
       " 0.0048492158437032666,\n",
       " 0.052865960962725805,\n",
       " 0.0048492158437032666,\n",
       " 0.072456792971287001,\n",
       " 0.0048492158437032666,\n",
       " 0.052865960962725805,\n",
       " 0.0048492158437032666,\n",
       " 0.16224810634385914,\n",
       " 0.0048492158437032666,\n",
       " 0.052865960962725805,\n",
       " 0.0048492158437032666,\n",
       " 0.29507988397766427]"
      ]
     },
     "execution_count": 58,
     "metadata": {},
     "output_type": "execute_result"
    }
   ],
   "source": [
    "posteriorPredictive = []\n",
    "for i in range (0,101,1):\n",
    "    posteriorPredictiveI = 0\n",
    "    for k in range (0, len(concepts), 1 ):\n",
    "        x = 0\n",
    "        if i in concepts[k]:\n",
    "            x = 1\n",
    "        else:\n",
    "            x = 0\n",
    "        posteriorPredictiveI += x * posterior[k]\n",
    "    posteriorPredictive.append(posteriorPredictiveI)\n",
    "    \n",
    "posteriorPredictive\n",
    "        "
   ]
  },
  {
   "cell_type": "code",
   "execution_count": null,
   "metadata": {
    "collapsed": true
   },
   "outputs": [],
   "source": []
  },
  {
   "cell_type": "code",
   "execution_count": 59,
   "metadata": {
    "collapsed": false
   },
   "outputs": [
    {
     "data": {
      "image/png": "[encoded data removed]",
      "text/plain": [
       "<matplotlib.figure.Figure at 0x10a78f310>"
      ]
     },
     "metadata": {},
     "output_type": "display_data"
    }
   ],
   "source": [
    "#Bar Plot\n",
    "    # http://matplotlib.org/examples/lines_bars_and_markers/barh_demo.html\n",
    "\n",
    "y_pos = np.arange(len(concepts))\n",
    "plt.barh(y_pos, prior, align='center', alpha=0.4)\n",
    "plt.yticks(y_pos, conceptNames)\n",
    "plt.xlabel('Probability')\n",
    "plt.title('Prior')\n",
    "plt.show()"
   ]
  },
  {
   "cell_type": "code",
   "execution_count": 60,
   "metadata": {
    "collapsed": false
   },
   "outputs": [
    {
     "data": {
      "image/png": "[encoded data removed]",
      "text/plain": [
       "<matplotlib.figure.Figure at 0x10a096890>"
      ]
     },
     "metadata": {},
     "output_type": "display_data"
    }
   ],
   "source": [
    "y_pos = np.arange(len(concepts))\n",
    "plt.barh(y_pos, likelihood, align='center', alpha=0.4)\n",
    "plt.yticks(y_pos, conceptNames)\n",
    "plt.xlabel('Probability')\n",
    "plt.title('Likelihood')\n",
    "plt.show()"
   ]
  },
  {
   "cell_type": "code",
   "execution_count": null,
   "metadata": {
    "collapsed": true
   },
   "outputs": [],
   "source": []
  }
 ],
 "metadata": {
  "kernelspec": {
   "display_name": "Python 2",
   "language": "python",
   "name": "python2"
  },
  "language_info": {
   "codemirror_mode": {
    "name": "ipython",
    "version": 2
   },
   "file_extension": ".py",
   "mimetype": "text/x-python",
   "name": "python",
   "nbconvert_exporter": "python",
   "pygments_lexer": "ipython2",
   "version": "2.7.10"
  }
 },
 "nbformat": 4,
 "nbformat_minor": 0
}

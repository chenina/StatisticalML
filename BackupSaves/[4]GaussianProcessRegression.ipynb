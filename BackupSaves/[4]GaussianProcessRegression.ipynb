{
 "cells": [
  {
   "cell_type": "code",
   "execution_count": 23,
   "metadata": {
    "collapsed": false
   },
   "outputs": [
    {
     "ename": "IOError",
     "evalue": "[Errno 2] No such file or directory: u'Gaussian-Equation.png'",
     "output_type": "error",
     "traceback": [
      "\u001b[0;31m---------------------------------------------------------------------------\u001b[0m",
      "\u001b[0;31mIOError\u001b[0m                                   Traceback (most recent call last)",
      "\u001b[0;32m<ipython-input-23-c17ea0d09586>\u001b[0m in \u001b[0;36m<module>\u001b[0;34m()\u001b[0m\n\u001b[1;32m      1\u001b[0m \u001b[0;32mfrom\u001b[0m \u001b[0mIPython\u001b[0m\u001b[0;34m.\u001b[0m\u001b[0mdisplay\u001b[0m \u001b[0;32mimport\u001b[0m \u001b[0mImage\u001b[0m\u001b[0;34m\u001b[0m\u001b[0m\n\u001b[0;32m----> 2\u001b[0;31m \u001b[0mImage\u001b[0m\u001b[0;34m(\u001b[0m\u001b[0mfilename\u001b[0m\u001b[0;34m=\u001b[0m\u001b[0;34m'Gaussian-Equation.png'\u001b[0m\u001b[0;34m)\u001b[0m\u001b[0;34m\u001b[0m\u001b[0m\n\u001b[0m",
      "\u001b[0;32m/Users/jacobbrewer/anaconda/lib/python2.7/site-packages/IPython/core/display.pyc\u001b[0m in \u001b[0;36m__init__\u001b[0;34m(self, data, url, filename, format, embed, width, height, retina, unconfined, metadata)\u001b[0m\n\u001b[1;32m    737\u001b[0m         \u001b[0mself\u001b[0m\u001b[0;34m.\u001b[0m\u001b[0munconfined\u001b[0m \u001b[0;34m=\u001b[0m \u001b[0munconfined\u001b[0m\u001b[0;34m\u001b[0m\u001b[0m\n\u001b[1;32m    738\u001b[0m         \u001b[0mself\u001b[0m\u001b[0;34m.\u001b[0m\u001b[0mmetadata\u001b[0m \u001b[0;34m=\u001b[0m \u001b[0mmetadata\u001b[0m\u001b[0;34m\u001b[0m\u001b[0m\n\u001b[0;32m--> 739\u001b[0;31m         \u001b[0msuper\u001b[0m\u001b[0;34m(\u001b[0m\u001b[0mImage\u001b[0m\u001b[0;34m,\u001b[0m \u001b[0mself\u001b[0m\u001b[0;34m)\u001b[0m\u001b[0;34m.\u001b[0m\u001b[0m__init__\u001b[0m\u001b[0;34m(\u001b[0m\u001b[0mdata\u001b[0m\u001b[0;34m=\u001b[0m\u001b[0mdata\u001b[0m\u001b[0;34m,\u001b[0m \u001b[0murl\u001b[0m\u001b[0;34m=\u001b[0m\u001b[0murl\u001b[0m\u001b[0;34m,\u001b[0m \u001b[0mfilename\u001b[0m\u001b[0;34m=\u001b[0m\u001b[0mfilename\u001b[0m\u001b[0;34m)\u001b[0m\u001b[0;34m\u001b[0m\u001b[0m\n\u001b[0m\u001b[1;32m    740\u001b[0m \u001b[0;34m\u001b[0m\u001b[0m\n\u001b[1;32m    741\u001b[0m         \u001b[0;32mif\u001b[0m \u001b[0mretina\u001b[0m\u001b[0;34m:\u001b[0m\u001b[0;34m\u001b[0m\u001b[0m\n",
      "\u001b[0;32m/Users/jacobbrewer/anaconda/lib/python2.7/site-packages/IPython/core/display.pyc\u001b[0m in \u001b[0;36m__init__\u001b[0;34m(self, data, url, filename)\u001b[0m\n\u001b[1;32m    384\u001b[0m         \u001b[0mself\u001b[0m\u001b[0;34m.\u001b[0m\u001b[0mfilename\u001b[0m \u001b[0;34m=\u001b[0m \u001b[0mNone\u001b[0m \u001b[0;32mif\u001b[0m \u001b[0mfilename\u001b[0m \u001b[0;32mis\u001b[0m \u001b[0mNone\u001b[0m \u001b[0;32melse\u001b[0m \u001b[0municode_type\u001b[0m\u001b[0;34m(\u001b[0m\u001b[0mfilename\u001b[0m\u001b[0;34m)\u001b[0m\u001b[0;34m\u001b[0m\u001b[0m\n\u001b[1;32m    385\u001b[0m \u001b[0;34m\u001b[0m\u001b[0m\n\u001b[0;32m--> 386\u001b[0;31m         \u001b[0mself\u001b[0m\u001b[0;34m.\u001b[0m\u001b[0mreload\u001b[0m\u001b[0;34m(\u001b[0m\u001b[0;34m)\u001b[0m\u001b[0;34m\u001b[0m\u001b[0m\n\u001b[0m\u001b[1;32m    387\u001b[0m         \u001b[0mself\u001b[0m\u001b[0;34m.\u001b[0m\u001b[0m_check_data\u001b[0m\u001b[0;34m(\u001b[0m\u001b[0;34m)\u001b[0m\u001b[0;34m\u001b[0m\u001b[0m\n\u001b[1;32m    388\u001b[0m \u001b[0;34m\u001b[0m\u001b[0m\n",
      "\u001b[0;32m/Users/jacobbrewer/anaconda/lib/python2.7/site-packages/IPython/core/display.pyc\u001b[0m in \u001b[0;36mreload\u001b[0;34m(self)\u001b[0m\n\u001b[1;32m    759\u001b[0m         \u001b[0;34m\"\"\"Reload the raw data from file or URL.\"\"\"\u001b[0m\u001b[0;34m\u001b[0m\u001b[0m\n\u001b[1;32m    760\u001b[0m         \u001b[0;32mif\u001b[0m \u001b[0mself\u001b[0m\u001b[0;34m.\u001b[0m\u001b[0membed\u001b[0m\u001b[0;34m:\u001b[0m\u001b[0;34m\u001b[0m\u001b[0m\n\u001b[0;32m--> 761\u001b[0;31m             \u001b[0msuper\u001b[0m\u001b[0;34m(\u001b[0m\u001b[0mImage\u001b[0m\u001b[0;34m,\u001b[0m\u001b[0mself\u001b[0m\u001b[0;34m)\u001b[0m\u001b[0;34m.\u001b[0m\u001b[0mreload\u001b[0m\u001b[0;34m(\u001b[0m\u001b[0;34m)\u001b[0m\u001b[0;34m\u001b[0m\u001b[0m\n\u001b[0m\u001b[1;32m    762\u001b[0m             \u001b[0;32mif\u001b[0m \u001b[0mself\u001b[0m\u001b[0;34m.\u001b[0m\u001b[0mretina\u001b[0m\u001b[0;34m:\u001b[0m\u001b[0;34m\u001b[0m\u001b[0m\n\u001b[1;32m    763\u001b[0m                 \u001b[0mself\u001b[0m\u001b[0;34m.\u001b[0m\u001b[0m_retina_shape\u001b[0m\u001b[0;34m(\u001b[0m\u001b[0;34m)\u001b[0m\u001b[0;34m\u001b[0m\u001b[0m\n",
      "\u001b[0;32m/Users/jacobbrewer/anaconda/lib/python2.7/site-packages/IPython/core/display.pyc\u001b[0m in \u001b[0;36mreload\u001b[0;34m(self)\u001b[0m\n\u001b[1;32m    402\u001b[0m         \u001b[0;34m\"\"\"Reload the raw data from file or URL.\"\"\"\u001b[0m\u001b[0;34m\u001b[0m\u001b[0m\n\u001b[1;32m    403\u001b[0m         \u001b[0;32mif\u001b[0m \u001b[0mself\u001b[0m\u001b[0;34m.\u001b[0m\u001b[0mfilename\u001b[0m \u001b[0;32mis\u001b[0m \u001b[0;32mnot\u001b[0m \u001b[0mNone\u001b[0m\u001b[0;34m:\u001b[0m\u001b[0;34m\u001b[0m\u001b[0m\n\u001b[0;32m--> 404\u001b[0;31m             \u001b[0;32mwith\u001b[0m \u001b[0mopen\u001b[0m\u001b[0;34m(\u001b[0m\u001b[0mself\u001b[0m\u001b[0;34m.\u001b[0m\u001b[0mfilename\u001b[0m\u001b[0;34m,\u001b[0m \u001b[0mself\u001b[0m\u001b[0;34m.\u001b[0m\u001b[0m_read_flags\u001b[0m\u001b[0;34m)\u001b[0m \u001b[0;32mas\u001b[0m \u001b[0mf\u001b[0m\u001b[0;34m:\u001b[0m\u001b[0;34m\u001b[0m\u001b[0m\n\u001b[0m\u001b[1;32m    405\u001b[0m                 \u001b[0mself\u001b[0m\u001b[0;34m.\u001b[0m\u001b[0mdata\u001b[0m \u001b[0;34m=\u001b[0m \u001b[0mf\u001b[0m\u001b[0;34m.\u001b[0m\u001b[0mread\u001b[0m\u001b[0;34m(\u001b[0m\u001b[0;34m)\u001b[0m\u001b[0;34m\u001b[0m\u001b[0m\n\u001b[1;32m    406\u001b[0m         \u001b[0;32melif\u001b[0m \u001b[0mself\u001b[0m\u001b[0;34m.\u001b[0m\u001b[0murl\u001b[0m \u001b[0;32mis\u001b[0m \u001b[0;32mnot\u001b[0m \u001b[0mNone\u001b[0m\u001b[0;34m:\u001b[0m\u001b[0;34m\u001b[0m\u001b[0m\n",
      "\u001b[0;31mIOError\u001b[0m: [Errno 2] No such file or directory: u'Gaussian-Equation.png'"
     ]
    }
   ],
   "source": [
    "from IPython.display import Image\n",
    "Image(filename='Gaussian-Equation.png')"
   ]
  },
  {
   "cell_type": "code",
   "execution_count": 11,
   "metadata": {
    "collapsed": false
   },
   "outputs": [
    {
     "name": "stdout",
     "output_type": "stream",
     "text": [
      "select a test point : 4\n"
     ]
    }
   ],
   "source": [
    "xTest = input('select a test point on range 1-8 : ') # [-2 10]"
   ]
  },
  {
   "cell_type": "code",
   "execution_count": 16,
   "metadata": {
    "collapsed": false
   },
   "outputs": [
    {
     "data": {
      "text/plain": [
       "array([[  4.],\n",
       "       [ 12.],\n",
       "       [ 20.],\n",
       "       [ 24.],\n",
       "       [ 28.],\n",
       "       [ 32.]])"
      ]
     },
     "execution_count": 16,
     "metadata": {},
     "output_type": "execute_result"
    }
   ],
   "source": [
    "KXXtest = np.zeros((len(xvals[0]),1))\n",
    "\n",
    "def generateKXXtest():\n",
    "    for xi in range (0, len(KXXtest), 1): \n",
    "        KXXtest[xi,0] = xvals[0][xi] * xTest\n",
    "        \n",
    "generateKXXtest()\n",
    "KXXtest # Nothing is on diagonol. Thus add no noise"
   ]
  },
  {
   "cell_type": "code",
   "execution_count": 34,
   "metadata": {
    "collapsed": false
   },
   "outputs": [
    {
     "data": {
      "text/plain": [
       "array([[  4.,  12.,  20.,  24.,  28.,  32.]])"
      ]
     },
     "execution_count": 34,
     "metadata": {},
     "output_type": "execute_result"
    }
   ],
   "source": [
    "KXtestX = np.zeros((1,len(xvals[0])))\n",
    "\n",
    "def generateKXtestX():\n",
    "    for xi in range (0, len(xvals[0]), 1): \n",
    "        KXtestX[0,xi] = xvals[0][xi] * xTest\n",
    "        \n",
    "generateKXtestX()\n",
    "KXtestX # Nothing is on diagonol. Thus add no noise"
   ]
  },
  {
   "cell_type": "code",
   "execution_count": 4,
   "metadata": {
    "collapsed": false
   },
   "outputs": [
    {
     "data": {
      "text/plain": [
       "array([[  1.,   3.,   5.,   6.,   7.,   8.],\n",
       "       [  3.,   9.,  15.,  18.,  21.,  24.],\n",
       "       [  5.,  15.,  25.,  30.,  35.,  40.],\n",
       "       [  6.,  18.,  30.,  36.,  42.,  48.],\n",
       "       [  7.,  21.,  35.,  42.,  49.,  56.],\n",
       "       [  8.,  24.,  40.,  48.,  56.,  64.]])"
      ]
     },
     "execution_count": 4,
     "metadata": {},
     "output_type": "execute_result"
    }
   ],
   "source": [
    "KXX = np.zeros((len(xvals[0]), len(xvals[0])))\n",
    "\n",
    "def generateKXX():\n",
    "    for xi in range (0, len(KXX), 1): \n",
    "        for xj in range (0, len(KXX), 1):\n",
    "            KXX[xi,xj] = xvals[0][xi] * xvals[0][xj] #np.dot(a,b)\n",
    "       \n",
    "generateKXX()\n",
    "KXX # Add noise to this # Add 5 (or whatever the noise is) to everything on diagonol "
   ]
  },
  {
   "cell_type": "code",
   "execution_count": 29,
   "metadata": {
    "collapsed": false
   },
   "outputs": [
    {
     "data": {
      "text/plain": [
       "16"
      ]
     },
     "execution_count": 29,
     "metadata": {},
     "output_type": "execute_result"
    }
   ],
   "source": [
    "KxTestxTest = xTest * xTest\n",
    "KxTestxTest # add noise to this "
   ]
  },
  {
   "cell_type": "code",
   "execution_count": 38,
   "metadata": {
    "collapsed": false
   },
   "outputs": [
    {
     "data": {
      "text/plain": [
       "array([[ 0.84147098],\n",
       "       [ 0.14112001],\n",
       "       [-0.95892427],\n",
       "       [-0.2794155 ],\n",
       "       [ 0.6569866 ],\n",
       "       [ 0.98935825]])"
      ]
     },
     "execution_count": 38,
     "metadata": {},
     "output_type": "execute_result"
    }
   ],
   "source": [
    "#the mean in this case is 0\n",
    "Y = np.transpose(yvals)\n",
    "Y"
   ]
  },
  {
   "cell_type": "code",
   "execution_count": 44,
   "metadata": {
    "collapsed": false
   },
   "outputs": [
    {
     "data": {
      "text/plain": [
       "array([[ 0.15885845]])"
      ]
     },
     "execution_count": 44,
     "metadata": {},
     "output_type": "execute_result"
    }
   ],
   "source": [
    "# MuPrime = 1x6 6x6 6x1\n",
    "import scipy.linalg as la\n",
    "muPrime = np.dot(np.dot(KXtestX, la.pinv(KXX)), Y)\n",
    "muPrime # Heights "
   ]
  },
  {
   "cell_type": "code",
   "execution_count": 49,
   "metadata": {
    "collapsed": false
   },
   "outputs": [
    {
     "data": {
      "text/plain": [
       "0.0"
      ]
     },
     "execution_count": 49,
     "metadata": {},
     "output_type": "execute_result"
    }
   ],
   "source": [
    "sigmaPrime = KxTestxTest - KXtestX.dot(la.pinv(KXX)).dot(KXXtest)\n",
    "sigmaPrime[0][0] # sigma prime is the variance "
   ]
  },
  {
   "cell_type": "code",
   "execution_count": 22,
   "metadata": {
    "collapsed": false,
    "scrolled": false
   },
   "outputs": [
    {
     "ename": "NameError",
     "evalue": "name 'Image' is not defined",
     "output_type": "error",
     "traceback": [
      "\u001b[0;31m---------------------------------------------------------------------------\u001b[0m",
      "\u001b[0;31mNameError\u001b[0m                                 Traceback (most recent call last)",
      "\u001b[0;32m<ipython-input-22-ff2795725521>\u001b[0m in \u001b[0;36m<module>\u001b[0;34m()\u001b[0m\n\u001b[0;32m----> 1\u001b[0;31m \u001b[0mImage\u001b[0m\u001b[0;34m(\u001b[0m\u001b[0mfilename\u001b[0m\u001b[0;34m=\u001b[0m\u001b[0;34m'Gaussian-Equation2.png'\u001b[0m\u001b[0;34m)\u001b[0m\u001b[0;34m\u001b[0m\u001b[0m\n\u001b[0m",
      "\u001b[0;31mNameError\u001b[0m: name 'Image' is not defined"
     ]
    }
   ],
   "source": [
    "Image(filename='Gaussian-Equation2.png')"
   ]
  },
  {
   "cell_type": "markdown",
   "metadata": {},
   "source": [
    "#BEGINING "
   ]
  },
  {
   "cell_type": "code",
   "execution_count": 1,
   "metadata": {
    "collapsed": true
   },
   "outputs": [],
   "source": [
    "#Adding Noise\n",
    "from numpy.linalg import inv\n",
    "import numpy as np\n",
    "import matplotlib.pyplot as plt\n",
    "import scipy.linalg as la\n",
    "%matplotlib inline "
   ]
  },
  {
   "cell_type": "code",
   "execution_count": 2,
   "metadata": {
    "collapsed": true
   },
   "outputs": [],
   "source": [
    "#putting it all together and graphing it\n",
    "xvals = np.atleast_2d( [ 1.0, 3.0, 5.0, 6.0, 7.0, 8.0 ] )\n",
    "yvals = np.sin( xvals )\n",
    "testPoints = np.linspace(-2, 10, 200, endpoint=True)"
   ]
  },
  {
   "cell_type": "code",
   "execution_count": 3,
   "metadata": {
    "collapsed": true
   },
   "outputs": [],
   "source": [
    "KXX = np.zeros((len(xvals[0]), len(xvals[0])))\n",
    "KXTest = np.zeros((len(xvals[0]),1))\n",
    "KTestX = np.zeros((1,len(xvals[0])))\n",
    "KTestTest = 0\n",
    "Y = np.transpose(yvals)\n",
    "yOutputs = []\n",
    "yVariances = []\n",
    "    \n",
    "def initialize():\n",
    "    KXX = np.zeros((len(xvals[0]), len(xvals[0])))\n",
    "    KXTest = np.zeros((len(xvals[0]),1))\n",
    "    KTestX = np.zeros((1,len(xvals[0])))\n",
    "    KTestTest = 0\n",
    "    Y = np.transpose(yvals)\n",
    "    yOutputs = []\n",
    "    yVariances = []"
   ]
  },
  {
   "cell_type": "code",
   "execution_count": 4,
   "metadata": {
    "collapsed": false
   },
   "outputs": [],
   "source": [
    "def generateKXTest(kernel, testPoint):\n",
    "    for xi in range (0, len(KXTest), 1): \n",
    "        if kernel == 'linear':\n",
    "            KXTest[xi,0] = xvals[0][xi] * testPoint  \n",
    "        elif kernel == 'polynomial':\n",
    "            poly = (1 + xvals[0][xi] * testPoint)\n",
    "            KXTest[xi,0] = poly * poly * poly\n",
    "        elif kernel == 'rbf':\n",
    "            xMinusY = xvals[0][xi] - testPoint\n",
    "            KXTest[xi,0] = np.exp(-.5 * xMinusY * xMinusY)\n",
    "            \n",
    "        \n",
    "def generateKTestX(kernel, testPoint):\n",
    "    for xi in range (0, len(xvals[0]), 1): \n",
    "        if kernel == 'linear':\n",
    "            KTestX[0,xi] = xvals[0][xi] * testPoint\n",
    "        elif kernel == 'polynomial':\n",
    "            poly = (1 + xvals[0][xi] * testPoint)\n",
    "            KTestX[0,xi] = poly * poly * poly\n",
    "        elif kernel == 'rbf':\n",
    "            xMinusY = xvals[0][xi] - testPoint\n",
    "            KTestX[0,xi] = np.exp(-.5 * xMinusY * xMinusY)\n",
    "        \n",
    "        \n",
    "def generateKTestTest(kernel, testPoint, noise):\n",
    "    if kernel == 'linear':\n",
    "        return testPoint * testPoint + noise\n",
    "    elif kernel == 'polynomial':\n",
    "        poly = testPoint * testPoint\n",
    "        return poly * poly * poly + noise\n",
    "    elif kernel == 'rbf':\n",
    "        xMinusY = testPoint - testPoint\n",
    "        return np.exp(-.5 * xMinusY * xMinusY)\n",
    "        \n",
    "\n",
    "def generateKXX(kernel, noise):\n",
    "    for xi in range (0, len(KXX), 1): \n",
    "        for xj in range (0, len(KXX), 1):\n",
    "            if kernel == 'linear':\n",
    "                KXX[xi,xj] = xvals[0][xi] * xvals[0][xj] + noise\n",
    "            elif kernel == 'polynomial':\n",
    "                poly = (1 + xvals[0][xi] * xvals[0][xj])\n",
    "                KXX[xi,xj] = poly * poly * poly + noise\n",
    "            elif kernel == 'rbf':\n",
    "                xMinusY = xvals[0][xi] - xvals[0][xj]\n",
    "                KXX[xi,xj] = np.exp(-.5 * xMinusY * xMinusY)\n",
    "            "
   ]
  },
  {
   "cell_type": "code",
   "execution_count": 26,
   "metadata": {
    "collapsed": false
   },
   "outputs": [],
   "source": [
    "#Initialize\n",
    "KXX = np.zeros((len(xvals[0]), len(xvals[0])))\n",
    "KXTest = np.zeros((len(xvals[0]),1))\n",
    "KTestX = np.zeros((1,len(xvals[0])))\n",
    "KTestTest = 0\n",
    "Y = np.transpose(yvals)\n",
    "yOutputs = []\n",
    "yVariances = []\n",
    "upperBound = []\n",
    "lowerBound = []"
   ]
  },
  {
   "cell_type": "code",
   "execution_count": 60,
   "metadata": {
    "collapsed": false
   },
   "outputs": [],
   "source": [
    "\n",
    "y1 = []\n",
    "y2 = []\n",
    "\n",
    "def generateResults(kernel, noise):\n",
    "    generateKXX(kernel,noise) #will remain for all test Points\n",
    "    upperBound[:] = []\n",
    "    lowerBound[:] = []\n",
    "    yOutputs[:] = []\n",
    "    for val in testPoints: \n",
    "        generateKXTest(kernel,val)\n",
    "        generateKTestX(kernel,val)\n",
    "        KTestTest = generateKTestTest(kernel,val, noise)\n",
    "        muPrime = np.dot(np.dot(KTestX, la.pinv(KXX)), Y)\n",
    "        #yOutputs.append(muPrime[0][0])\n",
    "        sigmaPrime = KTestTest - KTestX.dot(la.pinv(KXX)).dot(KXTest)[0][0]\n",
    "        \n",
    "        \n",
    "        A = np.power(1+val*xvals,3) # xtest,x\n",
    "        B = np.linalg.pinv(np.power(1+np.dot(xvals.T,xvals),3)) # x,x\n",
    "        C = yvals.T\n",
    "        D = np.dot(A,B)\n",
    "        E = np.dot(D,C)\n",
    "        yOutputs.append(E[0])\n",
    "        \n",
    "        a1 = KTestTest\n",
    "        b1 = KTestX\n",
    "        c1 = la.pinv(KXX)\n",
    "        d1 = KXTest\n",
    "        e1 = np.dot(b1,c1)\n",
    "        f1 = np.dot(e1,d1)\n",
    "        g1 = a1 - f1\n",
    "        sigmaPrime = g1[0]\n",
    "                \n",
    "        #print sigmaPrime\n",
    "        yVariances.append(sigmaPrime)\n",
    "        \n",
    "    for i in range (0, len(yVariances), 1):\n",
    "        upperBound.append(abs(yVariances[i]) + yOutputs)\n",
    "    \n",
    "    for i in range (0, len(yVariances), 1):\n",
    "        lowerBound.append(yOutputs- abs(yVariances[i]))\n",
    "        \n",
    "    #y1 = [(x+y)[0] for x,y in zip(yOutputs,yVariances)] \n",
    "    #y2 = [(x-y)[0] for x,y in zip(yOutputs,yVariances)]\n",
    "        \n",
    "generateResults('polynomial',.5)\n",
    "\n"
   ]
  },
  {
   "cell_type": "code",
   "execution_count": 59,
   "metadata": {
    "collapsed": false
   },
   "outputs": [
    {
     "ename": "ValueError",
     "evalue": "Argument dimensions are incompatible",
     "output_type": "error",
     "traceback": [
      "\u001b[0;31m---------------------------------------------------------------------------\u001b[0m",
      "\u001b[0;31mValueError\u001b[0m                                Traceback (most recent call last)",
      "\u001b[0;32m<ipython-input-59-2dabcaf4db17>\u001b[0m in \u001b[0;36m<module>\u001b[0;34m()\u001b[0m\n\u001b[1;32m     14\u001b[0m \u001b[0mplt\u001b[0m\u001b[0;34m.\u001b[0m\u001b[0mscatter\u001b[0m\u001b[0;34m(\u001b[0m\u001b[0mxvals\u001b[0m\u001b[0;34m,\u001b[0m\u001b[0myvals\u001b[0m\u001b[0;34m)\u001b[0m\u001b[0;34m\u001b[0m\u001b[0m\n\u001b[1;32m     15\u001b[0m \u001b[0mplt\u001b[0m\u001b[0;34m.\u001b[0m\u001b[0mplot\u001b[0m\u001b[0;34m(\u001b[0m\u001b[0mtestPoints\u001b[0m\u001b[0;34m,\u001b[0m\u001b[0myOutputs\u001b[0m\u001b[0;34m)\u001b[0m\u001b[0;34m\u001b[0m\u001b[0m\n\u001b[0;32m---> 16\u001b[0;31m \u001b[0mplt\u001b[0m\u001b[0;34m.\u001b[0m\u001b[0mgca\u001b[0m\u001b[0;34m(\u001b[0m\u001b[0;34m)\u001b[0m\u001b[0;34m.\u001b[0m\u001b[0mfill_between\u001b[0m\u001b[0;34m(\u001b[0m\u001b[0mtestPoints\u001b[0m\u001b[0;34m,\u001b[0m \u001b[0mupperBound\u001b[0m\u001b[0;34m[\u001b[0m\u001b[0;36m0\u001b[0m\u001b[0;34m]\u001b[0m\u001b[0;34m,\u001b[0m \u001b[0mlowerBound\u001b[0m\u001b[0;34m[\u001b[0m\u001b[0;36m0\u001b[0m\u001b[0;34m]\u001b[0m\u001b[0;34m,\u001b[0m \u001b[0malpha\u001b[0m \u001b[0;34m=\u001b[0m \u001b[0;36m.5\u001b[0m\u001b[0;34m)\u001b[0m\u001b[0;34m\u001b[0m\u001b[0m\n\u001b[0m\u001b[1;32m     17\u001b[0m \u001b[0mplt\u001b[0m\u001b[0;34m.\u001b[0m\u001b[0mshow\u001b[0m\u001b[0;34m(\u001b[0m\u001b[0;34m)\u001b[0m\u001b[0;34m\u001b[0m\u001b[0m\n",
      "\u001b[0;32m/Users/jacobbrewer/anaconda/lib/python2.7/site-packages/matplotlib/axes/_axes.pyc\u001b[0m in \u001b[0;36mfill_between\u001b[0;34m(self, x, y1, y2, where, interpolate, **kwargs)\u001b[0m\n\u001b[1;32m   4343\u001b[0m \u001b[0;34m\u001b[0m\u001b[0m\n\u001b[1;32m   4344\u001b[0m         \u001b[0;32mif\u001b[0m \u001b[0;32mnot\u001b[0m \u001b[0;34m(\u001b[0m\u001b[0mx\u001b[0m\u001b[0;34m.\u001b[0m\u001b[0mshape\u001b[0m \u001b[0;34m==\u001b[0m \u001b[0my1\u001b[0m\u001b[0;34m.\u001b[0m\u001b[0mshape\u001b[0m \u001b[0;34m==\u001b[0m \u001b[0my2\u001b[0m\u001b[0;34m.\u001b[0m\u001b[0mshape\u001b[0m \u001b[0;34m==\u001b[0m \u001b[0mwhere\u001b[0m\u001b[0;34m.\u001b[0m\u001b[0mshape\u001b[0m\u001b[0;34m)\u001b[0m\u001b[0;34m:\u001b[0m\u001b[0;34m\u001b[0m\u001b[0m\n\u001b[0;32m-> 4345\u001b[0;31m             \u001b[0;32mraise\u001b[0m \u001b[0mValueError\u001b[0m\u001b[0;34m(\u001b[0m\u001b[0;34m\"Argument dimensions are incompatible\"\u001b[0m\u001b[0;34m)\u001b[0m\u001b[0;34m\u001b[0m\u001b[0m\n\u001b[0m\u001b[1;32m   4346\u001b[0m \u001b[0;34m\u001b[0m\u001b[0m\n\u001b[1;32m   4347\u001b[0m         \u001b[0mmask\u001b[0m \u001b[0;34m=\u001b[0m \u001b[0mreduce\u001b[0m\u001b[0;34m(\u001b[0m\u001b[0mma\u001b[0m\u001b[0;34m.\u001b[0m\u001b[0mmask_or\u001b[0m\u001b[0;34m,\u001b[0m \u001b[0;34m[\u001b[0m\u001b[0mma\u001b[0m\u001b[0;34m.\u001b[0m\u001b[0mgetmask\u001b[0m\u001b[0;34m(\u001b[0m\u001b[0ma\u001b[0m\u001b[0;34m)\u001b[0m \u001b[0;32mfor\u001b[0m \u001b[0ma\u001b[0m \u001b[0;32min\u001b[0m \u001b[0;34m(\u001b[0m\u001b[0mx\u001b[0m\u001b[0;34m,\u001b[0m \u001b[0my1\u001b[0m\u001b[0;34m,\u001b[0m \u001b[0my2\u001b[0m\u001b[0;34m)\u001b[0m\u001b[0;34m]\u001b[0m\u001b[0;34m)\u001b[0m\u001b[0;34m\u001b[0m\u001b[0m\n",
      "\u001b[0;31mValueError\u001b[0m: Argument dimensions are incompatible"
     ]
    },
    {
     "data": {
      "image/png": "[encoded data removed]",
      "text/plain": [
       "<matplotlib.figure.Figure at 0x109275b90>"
      ]
     },
     "metadata": {},
     "output_type": "display_data"
    }
   ],
   "source": [
    "#Initialize Linear With No Noise\n",
    "KXX = np.zeros((len(xvals[0]), len(xvals[0])))\n",
    "KXTest = np.zeros((len(xvals[0]),1))\n",
    "KTestX = np.zeros((1,len(xvals[0])))\n",
    "KTestTest = 0\n",
    "Y = np.transpose(yvals)\n",
    "yOutputs = []\n",
    "yVariances = []\n",
    "upperBound = []\n",
    "lowerBound = []\n",
    "\n",
    "generateResults('linear',0.0)\n",
    "\n",
    "plt.scatter(xvals,yvals)\n",
    "plt.plot(testPoints,yOutputs)\n",
    "plt.gca().fill_between(testPoints, upperBound[0], lowerBound[0], alpha = .5)\n",
    "plt.show()"
   ]
  },
  {
   "cell_type": "code",
   "execution_count": 55,
   "metadata": {
    "collapsed": false
   },
   "outputs": [
    {
     "ename": "ValueError",
     "evalue": "Argument dimensions are incompatible",
     "output_type": "error",
     "traceback": [
      "\u001b[0;31m---------------------------------------------------------------------------\u001b[0m",
      "\u001b[0;31mValueError\u001b[0m                                Traceback (most recent call last)",
      "\u001b[0;32m<ipython-input-55-306090817661>\u001b[0m in \u001b[0;36m<module>\u001b[0;34m()\u001b[0m\n\u001b[1;32m     14\u001b[0m \u001b[0mplt\u001b[0m\u001b[0;34m.\u001b[0m\u001b[0mscatter\u001b[0m\u001b[0;34m(\u001b[0m\u001b[0mxvals\u001b[0m\u001b[0;34m,\u001b[0m\u001b[0myvals\u001b[0m\u001b[0;34m)\u001b[0m\u001b[0;34m\u001b[0m\u001b[0m\n\u001b[1;32m     15\u001b[0m \u001b[0mplt\u001b[0m\u001b[0;34m.\u001b[0m\u001b[0mplot\u001b[0m\u001b[0;34m(\u001b[0m\u001b[0mtestPoints\u001b[0m\u001b[0;34m,\u001b[0m\u001b[0myOutputs\u001b[0m\u001b[0;34m)\u001b[0m\u001b[0;34m\u001b[0m\u001b[0m\n\u001b[0;32m---> 16\u001b[0;31m \u001b[0mplt\u001b[0m\u001b[0;34m.\u001b[0m\u001b[0mgca\u001b[0m\u001b[0;34m(\u001b[0m\u001b[0;34m)\u001b[0m\u001b[0;34m.\u001b[0m\u001b[0mfill_between\u001b[0m\u001b[0;34m(\u001b[0m\u001b[0mtestPoints\u001b[0m\u001b[0;34m,\u001b[0m \u001b[0mupperBound\u001b[0m\u001b[0;34m[\u001b[0m\u001b[0;36m0\u001b[0m\u001b[0;34m]\u001b[0m\u001b[0;34m,\u001b[0m \u001b[0mlowerBound\u001b[0m\u001b[0;34m[\u001b[0m\u001b[0;36m0\u001b[0m\u001b[0;34m]\u001b[0m\u001b[0;34m,\u001b[0m \u001b[0malpha\u001b[0m \u001b[0;34m=\u001b[0m \u001b[0;36m.5\u001b[0m\u001b[0;34m)\u001b[0m\u001b[0;34m\u001b[0m\u001b[0m\n\u001b[0m\u001b[1;32m     17\u001b[0m \u001b[0mplt\u001b[0m\u001b[0;34m.\u001b[0m\u001b[0mshow\u001b[0m\u001b[0;34m(\u001b[0m\u001b[0;34m)\u001b[0m\u001b[0;34m\u001b[0m\u001b[0m\n",
      "\u001b[0;32m/Users/jacobbrewer/anaconda/lib/python2.7/site-packages/matplotlib/axes/_axes.pyc\u001b[0m in \u001b[0;36mfill_between\u001b[0;34m(self, x, y1, y2, where, interpolate, **kwargs)\u001b[0m\n\u001b[1;32m   4343\u001b[0m \u001b[0;34m\u001b[0m\u001b[0m\n\u001b[1;32m   4344\u001b[0m         \u001b[0;32mif\u001b[0m \u001b[0;32mnot\u001b[0m \u001b[0;34m(\u001b[0m\u001b[0mx\u001b[0m\u001b[0;34m.\u001b[0m\u001b[0mshape\u001b[0m \u001b[0;34m==\u001b[0m \u001b[0my1\u001b[0m\u001b[0;34m.\u001b[0m\u001b[0mshape\u001b[0m \u001b[0;34m==\u001b[0m \u001b[0my2\u001b[0m\u001b[0;34m.\u001b[0m\u001b[0mshape\u001b[0m \u001b[0;34m==\u001b[0m \u001b[0mwhere\u001b[0m\u001b[0;34m.\u001b[0m\u001b[0mshape\u001b[0m\u001b[0;34m)\u001b[0m\u001b[0;34m:\u001b[0m\u001b[0;34m\u001b[0m\u001b[0m\n\u001b[0;32m-> 4345\u001b[0;31m             \u001b[0;32mraise\u001b[0m \u001b[0mValueError\u001b[0m\u001b[0;34m(\u001b[0m\u001b[0;34m\"Argument dimensions are incompatible\"\u001b[0m\u001b[0;34m)\u001b[0m\u001b[0;34m\u001b[0m\u001b[0m\n\u001b[0m\u001b[1;32m   4346\u001b[0m \u001b[0;34m\u001b[0m\u001b[0m\n\u001b[1;32m   4347\u001b[0m         \u001b[0mmask\u001b[0m \u001b[0;34m=\u001b[0m \u001b[0mreduce\u001b[0m\u001b[0;34m(\u001b[0m\u001b[0mma\u001b[0m\u001b[0;34m.\u001b[0m\u001b[0mmask_or\u001b[0m\u001b[0;34m,\u001b[0m \u001b[0;34m[\u001b[0m\u001b[0mma\u001b[0m\u001b[0;34m.\u001b[0m\u001b[0mgetmask\u001b[0m\u001b[0;34m(\u001b[0m\u001b[0ma\u001b[0m\u001b[0;34m)\u001b[0m \u001b[0;32mfor\u001b[0m \u001b[0ma\u001b[0m \u001b[0;32min\u001b[0m \u001b[0;34m(\u001b[0m\u001b[0mx\u001b[0m\u001b[0;34m,\u001b[0m \u001b[0my1\u001b[0m\u001b[0;34m,\u001b[0m \u001b[0my2\u001b[0m\u001b[0;34m)\u001b[0m\u001b[0;34m]\u001b[0m\u001b[0;34m)\u001b[0m\u001b[0;34m\u001b[0m\u001b[0m\n",
      "\u001b[0;31mValueError\u001b[0m: Argument dimensions are incompatible"
     ]
    },
    {
     "data": {
      "image/png": "[encoded data removed]",
      "text/plain": [
       "<matplotlib.figure.Figure at 0x107847f90>"
      ]
     },
     "metadata": {},
     "output_type": "display_data"
    }
   ],
   "source": [
    "#Initialize Linear With No Noise\n",
    "KXX = np.zeros((len(xvals[0]), len(xvals[0])))\n",
    "KXTest = np.zeros((len(xvals[0]),1))\n",
    "KTestX = np.zeros((1,len(xvals[0])))\n",
    "KTestTest = 0\n",
    "Y = np.transpose(yvals)\n",
    "yOutputs = []\n",
    "yVariances = []\n",
    "upperBound = []\n",
    "lowerBound = []\n",
    "\n",
    "generateResults('linear',0.1)\n",
    "\n",
    "plt.scatter(xvals,yvals)\n",
    "plt.plot(testPoints,yOutputs)\n",
    "plt.gca().fill_between(testPoints, upperBound[0], lowerBound[0], alpha = .5)\n",
    "plt.show()"
   ]
  },
  {
   "cell_type": "code",
   "execution_count": 16,
   "metadata": {
    "collapsed": false
   },
   "outputs": [
    {
     "data": {
      "image/png": "[encoded data removed]",
      "text/plain": [
       "<matplotlib.figure.Figure at 0x106623450>"
      ]
     },
     "metadata": {},
     "output_type": "display_data"
    }
   ],
   "source": [
    "#Initialize Linear With No Noise\n",
    "KXX = np.zeros((len(xvals[0]), len(xvals[0])))\n",
    "KXTest = np.zeros((len(xvals[0]),1))\n",
    "KTestX = np.zeros((1,len(xvals[0])))\n",
    "KTestTest = 0\n",
    "Y = np.transpose(yvals)\n",
    "yOutputs = []\n",
    "yVariances = []\n",
    "upperBound = []\n",
    "lowerBound = []\n",
    "\n",
    "generateResults('polynomial',0.0)\n",
    "\n",
    "plt.scatter(xvals,yvals)\n",
    "plt.plot(testPoints,yOutputs)\n",
    "plt.gca().fill_between(testPoints, upperBound[0], lowerBound[0], alpha = .5)\n",
    "plt.show()"
   ]
  },
  {
   "cell_type": "code",
   "execution_count": 17,
   "metadata": {
    "collapsed": false
   },
   "outputs": [
    {
     "data": {
      "image/png": "[encoded data removed]",
      "text/plain": [
       "<matplotlib.figure.Figure at 0x107d85690>"
      ]
     },
     "metadata": {},
     "output_type": "display_data"
    }
   ],
   "source": [
    "#Initialize Linear With No Noise\n",
    "KXX = np.zeros((len(xvals[0]), len(xvals[0])))\n",
    "KXTest = np.zeros((len(xvals[0]),1))\n",
    "KTestX = np.zeros((1,len(xvals[0])))\n",
    "KTestTest = 0\n",
    "Y = np.transpose(yvals)\n",
    "yOutputs = []\n",
    "yVariances = []\n",
    "upperBound = []\n",
    "lowerBound = []\n",
    "\n",
    "generateResults('polynomial',0.1)\n",
    "\n",
    "plt.scatter(xvals,yvals)\n",
    "plt.plot(testPoints,yOutputs)\n",
    "plt.gca().fill_between(testPoints, upperBound[0], lowerBound[0], alpha = .5)\n",
    "plt.show()"
   ]
  },
  {
   "cell_type": "code",
   "execution_count": 18,
   "metadata": {
    "collapsed": false
   },
   "outputs": [
    {
     "data": {
      "image/png": "[encoded data removed]",
      "text/plain": [
       "<matplotlib.figure.Figure at 0x107bfd850>"
      ]
     },
     "metadata": {},
     "output_type": "display_data"
    }
   ],
   "source": [
    "#Initialize Linear With No Noise\n",
    "KXX = np.zeros((len(xvals[0]), len(xvals[0])))\n",
    "KXTest = np.zeros((len(xvals[0]),1))\n",
    "KTestX = np.zeros((1,len(xvals[0])))\n",
    "KTestTest = 0\n",
    "Y = np.transpose(yvals)\n",
    "yOutputs = []\n",
    "yVariances = []\n",
    "upperBound = []\n",
    "lowerBound = []\n",
    "\n",
    "generateResults('rbf',0.1)\n",
    "\n",
    "plt.scatter(xvals,yvals)\n",
    "plt.plot(testPoints,yOutputs)\n",
    "plt.gca().fill_between(testPoints, upperBound[0], lowerBound[0], alpha = .5)\n",
    "plt.show()"
   ]
  },
  {
   "cell_type": "code",
   "execution_count": 19,
   "metadata": {
    "collapsed": false
   },
   "outputs": [
    {
     "data": {
      "image/png": "[encoded data removed]",
      "text/plain": [
       "<matplotlib.figure.Figure at 0x107bfd8d0>"
      ]
     },
     "metadata": {},
     "output_type": "display_data"
    }
   ],
   "source": [
    "#Initialize Linear With No Noise\n",
    "KXX = np.zeros((len(xvals[0]), len(xvals[0])))\n",
    "KXTest = np.zeros((len(xvals[0]),1))\n",
    "KTestX = np.zeros((1,len(xvals[0])))\n",
    "KTestTest = 0\n",
    "Y = np.transpose(yvals)\n",
    "yOutputs = []\n",
    "yVariances = []\n",
    "upperBound = []\n",
    "lowerBound = []\n",
    "\n",
    "generateResults('rbf',0.0)\n",
    "\n",
    "plt.scatter(xvals,yvals)\n",
    "plt.plot(testPoints,yOutputs)\n",
    "plt.gca().fill_between(testPoints, upperBound[0], lowerBound[0], alpha = .5)\n",
    "plt.show()"
   ]
  },
  {
   "cell_type": "markdown",
   "metadata": {},
   "source": [
    "##Bryce "
   ]
  },
  {
   "cell_type": "code",
   "execution_count": 61,
   "metadata": {
    "collapsed": false
   },
   "outputs": [
    {
     "data": {
      "image/png": "[encoded data removed]",
      "text/plain": [
       "<matplotlib.figure.Figure at 0x1081422d0>"
      ]
     },
     "metadata": {},
     "output_type": "display_data"
    }
   ],
   "source": [
    "import scipy.io\n",
    "import numpy \n",
    "import matplotlib\n",
    "import matplotlib.pyplot as plt\n",
    "%matplotlib inline  \n",
    "\n",
    "\n",
    "data_xvals = numpy.atleast_2d( [ 1.0, 3.0, 5.0, 6.0, 7.0, 8.0 ] )\n",
    "data_yvals = numpy.sin( data_xvals )\n",
    "\n",
    "#print numpy.dot(data_xvals.T,data_xvals)\n",
    "\n",
    "#k is x*y\n",
    "\n",
    "plt.scatter(data_xvals,data_yvals,5,color='blue')\n",
    "plt.plot(data_xvals,data_yvals)\n",
    "\n",
    "\n",
    "xTestAgainst = numpy.linspace(-2,10,100)\n",
    "\n",
    "storeVals = []\n",
    "storeB =[]\n",
    "for x in xTestAgainst:\n",
    "   A = x*data_xvals # xtest,x\n",
    "   #print A\n",
    "   B = numpy.linalg.pinv(numpy.dot(data_xvals.T,data_xvals)) # x,x\n",
    "   #print B\n",
    "   \n",
    "   #print numpy.dot(A,B)\n",
    "   C = data_yvals.T\n",
    "   #print C\n",
    "   \n",
    "   D = numpy.dot(A,B)\n",
    "   E = numpy.dot(D,C)\n",
    "   storeVals.append(E)\n",
    "   \n",
    "   A1 = x*x\n",
    "   B1 = x*data_xvals\n",
    "   C1 = numpy.linalg.pinv(numpy.dot(data_xvals.T,data_xvals))\n",
    "   D1 = (data_xvals*x).T\n",
    "   \n",
    "   E1 = numpy.dot(B1,C1)\n",
    "   F1 = numpy.dot(E1,D1)\n",
    "   storeB.append(A1 - F1)\n",
    "   #print storeB\n",
    "   \n",
    "y1 = [(x+y)[0][0] for x,y in zip(storeVals,storeB)] \n",
    "y2 = [(x-y)[0][0] for x,y in zip(storeVals,storeB)]\n",
    "\n",
    "#print y1\n",
    "\n",
    "plt.fill_between(xTestAgainst,y1,y2, \n",
    "                  facecolor='yellow', alpha=0.5)\n",
    "#print storeVals\n",
    "\n",
    "plt.scatter(xTestAgainst,storeVals,8,color='red')\n",
    "#plt.scatter(xTestAgainst,y1,8,color='green')\n",
    "#plt.scatter(xTestAgainst,y1,8,color='green')\n",
    "plt.show()\n",
    "   \n",
    "#[[k(a , b) for b in x] for a in x]"
   ]
  },
  {
   "cell_type": "code",
   "execution_count": 67,
   "metadata": {
    "collapsed": false
   },
   "outputs": [
    {
     "data": {
      "image/png": "[encoded data removed]",
      "text/plain": [
       "<matplotlib.figure.Figure at 0x1082ae850>"
      ]
     },
     "metadata": {},
     "output_type": "display_data"
    }
   ],
   "source": [
    "plt.scatter(data_xvals,data_yvals,5,color='blue')\n",
    "plt.plot(data_xvals,data_yvals)\n",
    "\n",
    "\n",
    "xTestAgainst = numpy.linspace(-2,10,100)\n",
    "\n",
    "storeVals = []\n",
    "storeB =[]\n",
    "for x in xTestAgainst:\n",
    "   A = x*data_xvals # xtest,x\n",
    "   #print A\n",
    "   B = numpy.linalg.pinv(numpy.dot(data_xvals.T,data_xvals) + (numpy.identity(6)*.1)) # x,x\n",
    "   #print B\n",
    "   \n",
    "   #print numpy.dot(A,B)\n",
    "   C = data_yvals.T\n",
    "   #print C\n",
    "   \n",
    "   D = numpy.dot(A,B)\n",
    "   E = numpy.dot(D,C)\n",
    "   storeVals.append(E)\n",
    "   \n",
    "   A1 = x*x\n",
    "   B1 = x*data_xvals\n",
    "   C1 = numpy.linalg.pinv(numpy.dot(data_xvals.T,data_xvals) + (numpy.identity(6)*.1))\n",
    "   D1 = (data_xvals*x).T\n",
    "   \n",
    "   E1 = numpy.dot(B1,C1)\n",
    "   F1 = numpy.dot(E1,D1)\n",
    "   storeB.append(A1 - F1)\n",
    "   #print storeB\n",
    "   \n",
    "y1 = [(x+y)[0][0] for x,y in zip(storeVals,storeB)] \n",
    "y2 = [(x-y)[0][0] for x,y in zip(storeVals,storeB)]\n",
    "\n",
    "#print y1\n",
    "\n",
    "plt.fill_between(xTestAgainst,y1,y2, \n",
    "                  facecolor='yellow', alpha=0.5)\n",
    "#print storeVals\n",
    "\n",
    "plt.scatter(xTestAgainst,storeVals,8,color='red')\n",
    "#plt.scatter(xTestAgainst,y1,8,color='green')\n",
    "#plt.scatter(xTestAgainst,y1,8,color='green')\n",
    "plt.show()\n",
    "   \n",
    "#[[k(a , b) for b in x] for a in x]"
   ]
  },
  {
   "cell_type": "code",
   "execution_count": 62,
   "metadata": {
    "collapsed": false
   },
   "outputs": [
    {
     "data": {
      "text/plain": [
       "<matplotlib.collections.PolyCollection at 0x107c30050>"
      ]
     },
     "execution_count": 62,
     "metadata": {},
     "output_type": "execute_result"
    },
    {
     "data": {
      "image/png": "[encoded data removed]",
      "text/plain": [
       "<matplotlib.figure.Figure at 0x1081d9b90>"
      ]
     },
     "metadata": {},
     "output_type": "display_data"
    }
   ],
   "source": [
    "\n",
    "plt.scatter(data_xvals,data_yvals,5,color='blue')\n",
    "storeNoise = []\n",
    "storeS = []\n",
    "for x in xTestAgainst:\n",
    "   A = numpy.power(1+x*data_xvals,3) # xtest,x\n",
    "   B = numpy.power(1+numpy.dot(data_xvals.T,data_xvals),3)# x,x\n",
    "   C = data_yvals.T\n",
    "\n",
    "   noisyB = numpy.linalg.pinv(B + (numpy.identity(6)*.1)) # noise\n",
    "   D = numpy.dot(A,noisyB)\n",
    "   E = numpy.dot(D,C)   \n",
    "   storeNoise.append(E[0])\n",
    "   \n",
    "   A1 = numpy.power(1+x*x,3)\n",
    "   B1 = numpy.power(1+x*data_xvals,3)\n",
    "   C1 = numpy.linalg.pinv(numpy.power(1+numpy.dot(data_xvals.T,data_xvals),3) + (numpy.identity(6)*.1)) #noise\n",
    "   D1 = (numpy.power(1+data_xvals*x,3).T)\n",
    "   \n",
    "   E1 = numpy.dot(B1,C1)\n",
    "   F1 = numpy.dot(E1,D1)\n",
    "   G1 = A1 - F1\n",
    "   storeS.append(G1[0])   \n",
    "   \n",
    "y1 = [(x+y)[0] for x,y in zip(storeNoise,storeS)] \n",
    "y2 = [(x-y)[0] for x,y in zip(storeNoise,storeS)]\n",
    "\n",
    "plt.plot(xTestAgainst,storeNoise,color='red')\n",
    "\n",
    "plt.fill_between(xTestAgainst,y1,y2, \n",
    "                  facecolor='yellow', alpha=0.5)"
   ]
  },
  {
   "cell_type": "code",
   "execution_count": 63,
   "metadata": {
    "collapsed": false
   },
   "outputs": [
    {
     "data": {
      "image/png": "[encoded data removed]",
      "text/plain": [
       "<matplotlib.figure.Figure at 0x10828d610>"
      ]
     },
     "metadata": {},
     "output_type": "display_data"
    }
   ],
   "source": [
    "plt.scatter(data_xvals,data_yvals,5,color='blue')\n",
    "storeVals = []\n",
    "storeS = []\n",
    "for x in xTestAgainst:\n",
    "   A = numpy.exp((-.5)*numpy.power(x-data_xvals,2))\n",
    "   B = numpy.linalg.pinv(numpy.exp((-.5)*numpy.power(data_xvals.T-data_xvals,2))) # no Noise\n",
    "   C = data_yvals.T\n",
    "   D = numpy.dot(A,B)\n",
    "   E = numpy.dot(D,C)\n",
    "   storeVals.append(E[0])\n",
    "  \n",
    "   A1 = numpy.exp((-.5)*numpy.power(x-x,2))\n",
    "   B1 = numpy.exp((-.5)*numpy.power(x-data_xvals,2))\n",
    "   C1 = numpy.linalg.pinv(numpy.exp((-.5)*numpy.power(data_xvals.T-data_xvals,2)))\n",
    "   D1 = numpy.exp((-.5)*numpy.power(data_xvals-x,2)).T\n",
    "   \n",
    "   E1 = numpy.dot(B1,C1)\n",
    "   F1 = numpy.dot(E1,D1)\n",
    "   G1 = A1 - F1\n",
    "   storeS.append(G1[0])\n",
    "   \n",
    "y1 = [(x+y)[0] for x,y in zip(storeVals,storeS)] \n",
    "y2 = [(x-y)[0] for x,y in zip(storeVals,storeS)]\n",
    "\n",
    "plt.fill_between(xTestAgainst,y1,y2,facecolor='yellow', alpha=0.5)    \n",
    "   \n",
    "plt.plot(xTestAgainst,storeVals,color='red')\n",
    "plt.show()"
   ]
  },
  {
   "cell_type": "code",
   "execution_count": 64,
   "metadata": {
    "collapsed": false
   },
   "outputs": [
    {
     "data": {
      "image/png": "[encoded data removed]",
      "text/plain": [
       "<matplotlib.figure.Figure at 0x10828d3d0>"
      ]
     },
     "metadata": {},
     "output_type": "display_data"
    }
   ],
   "source": [
    "plt.scatter(data_xvals,data_yvals,5,color='blue')\n",
    "storeVals = []\n",
    "storeS = []\n",
    "for x in xTestAgainst:\n",
    "   A = numpy.exp((-.5)*numpy.power(x-data_xvals,2))\n",
    "   B = numpy.linalg.pinv(numpy.exp((-.5)*numpy.power(data_xvals.T-data_xvals,2)) + (numpy.identity(6)*.1)) # no Noise\n",
    "   C = data_yvals.T\n",
    "   D = numpy.dot(A,B)\n",
    "   E = numpy.dot(D,C)\n",
    "   storeVals.append(E[0])\n",
    "  \n",
    "   A1 = numpy.exp((-.5)*numpy.power(x-x,2))\n",
    "   B1 = numpy.exp((-.5)*numpy.power(x-data_xvals,2))\n",
    "   C1 = numpy.linalg.pinv(numpy.exp((-.5)*numpy.power(data_xvals.T-data_xvals,2)) + (numpy.identity(6)*.1))\n",
    "   D1 = numpy.exp((-.5)*numpy.power(data_xvals-x,2)).T\n",
    "   \n",
    "   E1 = numpy.dot(B1,C1)\n",
    "   F1 = numpy.dot(E1,D1)\n",
    "   G1 = A1 - F1\n",
    "   storeS.append(G1[0])\n",
    "   \n",
    "y1 = [(x+y)[0] for x,y in zip(storeVals,storeS)] \n",
    "y2 = [(x-y)[0] for x,y in zip(storeVals,storeS)]\n",
    "\n",
    "plt.fill_between(xTestAgainst,y1,y2,facecolor='yellow', alpha=0.5)    \n",
    "   \n",
    "plt.plot(xTestAgainst,storeVals,color='red')\n",
    "plt.show()"
   ]
  },
  {
   "cell_type": "code",
   "execution_count": 66,
   "metadata": {
    "collapsed": false
   },
   "outputs": [
    {
     "data": {
      "text/plain": [
       "<matplotlib.collections.PolyCollection at 0x107c96e90>"
      ]
     },
     "execution_count": 66,
     "metadata": {},
     "output_type": "execute_result"
    },
    {
     "data": {
      "image/png": "[encoded data removed]",
      "text/plain": [
       "<matplotlib.figure.Figure at 0x10828d690>"
      ]
     },
     "metadata": {},
     "output_type": "display_data"
    }
   ],
   "source": [
    "\n",
    "plt.scatter(data_xvals,data_yvals,5,color='blue')\n",
    "storeNoise = []\n",
    "storeS = []\n",
    "for x in xTestAgainst:\n",
    "   A = numpy.power(1+x*data_xvals,3) # xtest,x\n",
    "   B = numpy.power(1+numpy.dot(data_xvals.T,data_xvals),3)# x,x\n",
    "   C = data_yvals.T\n",
    "\n",
    "   noisyB = numpy.linalg.pinv(B) # noise\n",
    "   D = numpy.dot(A,noisyB)\n",
    "   E = numpy.dot(D,C)   \n",
    "   storeNoise.append(E[0])\n",
    "   \n",
    "   A1 = numpy.power(1+x*x,3)\n",
    "   B1 = numpy.power(1+x*data_xvals,3)\n",
    "   C1 = numpy.linalg.pinv(numpy.power(1+numpy.dot(data_xvals.T,data_xvals),3)) #noise\n",
    "   D1 = (numpy.power(1+data_xvals*x,3).T)\n",
    "   \n",
    "   E1 = numpy.dot(B1,C1)\n",
    "   F1 = numpy.dot(E1,D1)\n",
    "   G1 = A1 - F1\n",
    "   storeS.append(G1[0])   \n",
    "   \n",
    "y1 = [(x+y)[0] for x,y in zip(storeNoise,storeS)] \n",
    "y2 = [(x-y)[0] for x,y in zip(storeNoise,storeS)]\n",
    "\n",
    "plt.plot(xTestAgainst,storeNoise,color='red')\n",
    "\n",
    "plt.fill_between(xTestAgainst,y1,y2, \n",
    "                  facecolor='yellow', alpha=0.5)"
   ]
  },
  {
   "cell_type": "code",
   "execution_count": null,
   "metadata": {
    "collapsed": true
   },
   "outputs": [],
   "source": []
  }
 ],
 "metadata": {
  "kernelspec": {
   "display_name": "Python 2",
   "language": "python",
   "name": "python2"
  },
  "language_info": {
   "codemirror_mode": {
    "name": "ipython",
    "version": 2
   },
   "file_extension": ".py",
   "mimetype": "text/x-python",
   "name": "python",
   "nbconvert_exporter": "python",
   "pygments_lexer": "ipython2",
   "version": "2.7.11"
  }
 },
 "nbformat": 4,
 "nbformat_minor": 0
}

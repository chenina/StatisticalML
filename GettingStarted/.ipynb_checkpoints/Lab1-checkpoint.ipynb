{
 "cells": [
  {
   "cell_type": "code",
   "execution_count": 2,
   "metadata": {
    "collapsed": false
   },
   "outputs": [
    {
     "ename": "ImportError",
     "evalue": "No module named cairo",
     "output_type": "error",
     "traceback": [
      "\u001b[0;31m---------------------------------------------------------------------------\u001b[0m",
      "\u001b[0;31mImportError\u001b[0m                               Traceback (most recent call last)",
      "\u001b[0;32m<ipython-input-2-3e1f3b2ae407>\u001b[0m in \u001b[0;36m<module>\u001b[0;34m()\u001b[0m\n\u001b[1;32m      1\u001b[0m \u001b[0;31m#LAB PART 1\u001b[0m\u001b[0;34m\u001b[0m\u001b[0;34m\u001b[0m\u001b[0m\n\u001b[1;32m      2\u001b[0m \u001b[0;34m\u001b[0m\u001b[0m\n\u001b[0;32m----> 3\u001b[0;31m \u001b[0;32mimport\u001b[0m \u001b[0mcairo\u001b[0m\u001b[0;34m\u001b[0m\u001b[0m\n\u001b[0m\u001b[1;32m      4\u001b[0m \u001b[0;32mimport\u001b[0m \u001b[0mnumpy\u001b[0m\u001b[0;34m\u001b[0m\u001b[0m\n\u001b[1;32m      5\u001b[0m \u001b[0;34m\u001b[0m\u001b[0m\n",
      "\u001b[0;31mImportError\u001b[0m: No module named cairo"
     ]
    }
   ],
   "source": [
    "#LAB PART 1\n",
    "\n",
    "import cairo\n",
    "import numpy\n",
    " \n",
    "# A simple function to display an image in an ipython notebook\n",
    "def nbimage( data ):\n",
    "    from IPython.display import display, Image\n",
    "    from PIL.Image import fromarray\n",
    "    from StringIO import StringIO\n",
    " \n",
    "    s = StringIO()\n",
    "    fromarray( data ).save( s, 'png' )\n",
    "    display( Image( s.getvalue() ) )\n",
    " \n",
    "WIDTH = 512\n",
    "HEIGHT = 288\n",
    " \n",
    "# this is a numpy buffer to hold the image data\n",
    "data = numpy.zeros( (HEIGHT,WIDTH,4), dtype=numpy.uint8 )\n",
    " \n",
    "# this creates a cairo context based on the numpy buffer\n",
    "ims = cairo.ImageSurface.create_for_data( data, cairo.FORMAT_ARGB32, WIDTH, HEIGHT )\n",
    "cr = cairo.Context( ims )\n",
    " \n",
    "# draw a blue line\n",
    "cr.set_source_rgba( 1.0, 0.0, 0.0, 1.0 )\n",
    "cr.set_line_width( 2.0 )\n",
    "cr.move_to( 0.0, 0.0 )\n",
    "cr.line_to( 100.0, 100.0 )\n",
    "cr.stroke()\n",
    " \n",
    "# display the image\n",
    "nbimage( data )"
   ]
  },
  {
   "cell_type": "code",
   "execution_count": 2,
   "metadata": {
    "collapsed": false
   },
   "outputs": [
    {
     "name": "stderr",
     "output_type": "stream",
     "text": [
      "/Users/jacobbrewer/anaconda/lib/python2.7/site-packages/pandas/io/parsers.py:1170: DtypeWarning: Columns (7) have mixed types. Specify dtype option on import or set low_memory=False.\n",
      "  data = self._reader.read(nrows)\n"
     ]
    }
   ],
   "source": [
    "import pandas \n",
    "df = pandas.read_csv(\"store_train.csv\")"
   ]
  },
  {
   "cell_type": "code",
   "execution_count": null,
   "metadata": {
    "collapsed": true
   },
   "outputs": [],
   "source": []
  }
 ],
 "metadata": {
  "kernelspec": {
   "display_name": "Python 2",
   "language": "python",
   "name": "python2"
  },
  "language_info": {
   "codemirror_mode": {
    "name": "ipython",
    "version": 2
   },
   "file_extension": ".py",
   "mimetype": "text/x-python",
   "name": "python",
   "nbconvert_exporter": "python",
   "pygments_lexer": "ipython2",
   "version": "2.7.10"
  }
 },
 "nbformat": 4,
 "nbformat_minor": 0
}

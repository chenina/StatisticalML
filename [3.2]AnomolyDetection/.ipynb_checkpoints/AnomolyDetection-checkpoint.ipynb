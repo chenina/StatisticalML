{
 "cells": [
  {
   "cell_type": "code",
   "execution_count": 1,
   "metadata": {
    "collapsed": false
   },
   "outputs": [],
   "source": [
    "import scipy.io\n",
    "import matplotlib.pyplot as plt\n",
    "import pandas as pd\n",
    "import numpy as np\n",
    "\n",
    "\n",
    "train_mat = scipy.io.loadmat('mnist_train.mat')\n",
    "train_data = train_mat['images']\n",
    "train_labels = train_mat['labels']\n",
    " \n",
    "test_mat = scipy.io.loadmat('mnist_test.mat')\n",
    "test_data = test_mat['t10k_images']\n",
    "test_labels = test_mat['t10k_labels']\n",
    "%matplotlib inline\n"
   ]
  },
  {
   "cell_type": "code",
   "execution_count": 4,
   "metadata": {
    "collapsed": false
   },
   "outputs": [
    {
     "name": "stderr",
     "output_type": "stream",
     "text": [
      "/Users/jacobbrewer/anaconda/lib/python2.7/site-packages/matplotlib/axes/_subplots.py:69: MatplotlibDeprecationWarning: The use of 0 (which ends up being the _last_ sub-plot) is deprecated in 1.4 and will raise an error in 1.5\n",
      "  mplDeprecation)\n"
     ]
    },
    {
     "data": {
      "image/png": "[encoded data removed]",
      "text/plain": [
       "<matplotlib.figure.Figure at 0x122da1390>"
      ]
     },
     "metadata": {},
     "output_type": "display_data"
    }
   ],
   "source": [
    "listOfMeans = []\n",
    "\n",
    "for i in range(0,10,1):\n",
    "    nextFilteredData = train_data[:, (train_labels == i).ravel()]\n",
    "    meanImage = np.mean(nextFilteredData, axis = 1) # Mean across columns = axis 0 # Mean across rows is axis 1\n",
    "    listOfMeans.append(meanImage)\n",
    "\n",
    "#listOfMeans.insert(0, listOfMeans.pop(9))\n",
    "\n",
    "plt.figure(1)   # the first figure\n",
    "# Get current size\n",
    "fig_size = plt.rcParams[\"figure.figsize\"]\n",
    "fig_size[0] = 16 # Set Width\n",
    "fig_size[1] = 8 # Set Height\n",
    "plt.rcParams[\"figure.figsize\"] = fig_size\n",
    "\n",
    "plt.subplot(250)             \n",
    "plt.imshow(listOfMeans[0].reshape(28,28).T, interpolation='nearest',cmap='gray')\n",
    "plt.subplot(251)            \n",
    "plt.imshow(listOfMeans[1].reshape(28,28).T, interpolation='nearest',cmap='gray')\n",
    "plt.subplot(252)             \n",
    "plt.imshow(listOfMeans[2].reshape(28,28).T, interpolation='nearest',cmap='gray')\n",
    "plt.subplot(253)            \n",
    "plt.imshow(listOfMeans[3].reshape(28,28).T, interpolation='nearest',cmap='gray')\n",
    "plt.subplot(254)            \n",
    "plt.imshow(listOfMeans[4].reshape(28,28).T, interpolation='nearest',cmap='gray')\n",
    "plt.subplot(255)            \n",
    "plt.imshow(listOfMeans[5].reshape(28,28).T, interpolation='nearest',cmap='gray')\n",
    "plt.subplot(256)            \n",
    "plt.imshow(listOfMeans[6].reshape(28,28).T, interpolation='nearest',cmap='gray')\n",
    "plt.subplot(257)             \n",
    "plt.imshow(listOfMeans[7].reshape(28,28).T, interpolation='nearest',cmap='gray')\n",
    "plt.subplot(258)           \n",
    "plt.imshow(listOfMeans[8].reshape(28,28).T, interpolation='nearest',cmap='gray')\n",
    "plt.subplot(259)            \n",
    "plt.imshow(listOfMeans[9].reshape(28,28).T, interpolation='nearest',cmap='gray')\n",
    "\n",
    "plt.show()"
   ]
  },
  {
   "cell_type": "code",
   "execution_count": null,
   "metadata": {
    "collapsed": true
   },
   "outputs": [],
   "source": []
  }
 ],
 "metadata": {
  "kernelspec": {
   "display_name": "Python 2",
   "language": "python",
   "name": "python2"
  },
  "language_info": {
   "codemirror_mode": {
    "name": "ipython",
    "version": 2
   },
   "file_extension": ".py",
   "mimetype": "text/x-python",
   "name": "python",
   "nbconvert_exporter": "python",
   "pygments_lexer": "ipython2",
   "version": "2.7.11"
  }
 },
 "nbformat": 4,
 "nbformat_minor": 0
}
